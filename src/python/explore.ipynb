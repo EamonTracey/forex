{
 "cells": [
  {
   "cell_type": "code",
   "execution_count": null,
   "id": "f5c8a9df-c3ae-48ba-b27b-ebd8d5e3b7a5",
   "metadata": {},
   "outputs": [],
   "source": [
    "import math\n",
    "\n",
    "import matplotlib.pyplot as plt\n",
    "import networkx as nx\n",
    "import pandas as pd"
   ]
  },
  {
   "cell_type": "code",
   "execution_count": null,
   "id": "89887e16-9367-4306-b13f-3c8eae4edb17",
   "metadata": {},
   "outputs": [],
   "source": [
    "# The path to a gzipped CSV containing forex data from Polygon.io.\n",
    "DATA_PATH = \"../../data/raw/2025-03-03.csv.gz\"\n",
    "\n",
    "# The currencies in which we are interested.\n",
    "# Most traded currencies -> https://en.wikipedia.org/wiki/Template:Most_traded_currencies.\n",
    "# CURRENCIES = {\"CHF\", \"ZAR\", \"CAD\", \"AUD\", \"USD\", \"SGD\", \"EUR\", \"GBP\", \"SEK\", \"JPY\", \"DKK\", \"HKD\", \"NOK\", \"MXN\", \"NZD\", \"CZK\", \"PLN\", \"HUF\", \"TRY\", \"TWD\", \"RUB\", \"INR\", \"CLP\", \"CNY\", \"CNH\", \"THB\", \"BGN\", \"MYR\", \"KRW\", \"ILS\"}\n",
    "# CURRENCIES = {\"USD\", \"SGD\", \"EUR\", \"GBP\", \"JPY\"}\n",
    "CURRENCIES = {\"USD\", \"EUR\", \"JPY\", \"GBP\", \"CNH\", \"AUD\", \"CAD\", \"CHF\", \"HKD\", \"SGD\"}"
   ]
  },
  {
   "cell_type": "code",
   "execution_count": null,
   "id": "7de01e68-6e93-4b8a-97c1-4ca9b8e11772",
   "metadata": {},
   "outputs": [],
   "source": [
    "df = pd.read_csv(DATA_PATH, compression=\"gzip\")\n",
    "\n",
    "df"
   ]
  },
  {
   "cell_type": "code",
   "execution_count": null,
   "id": "289b2b39-532d-4158-8709-c7f26fa3afbd",
   "metadata": {},
   "outputs": [],
   "source": [
    "# Clean, filter, and sort the raw dataframe.\n",
    "\n",
    "def is_symbol_of_interest(symbol: str):\n",
    "    currency1, currency2 = symbol[2:].split(\"-\")\n",
    "    return currency1 in CURRENCIES and currency2 in CURRENCIES\n",
    "\n",
    "# Sort by the timestamp and convert the timestamp to seconds.\n",
    "# The timestamp is provided in nanoseconds but has 1 second resolution.\n",
    "df = df.sort_values(by=\"participant_timestamp\", kind=\"stable\")\n",
    "df[\"participant_timestamp\"] //= int(1e9)\n",
    "\n",
    "# The exchange always seems to equal 48.\n",
    "df = df.drop([\"ask_exchange\", \"bid_exchange\"], axis=1)\n",
    "\n",
    "# Remove currencies in which we are not interested.\n",
    "df = df[df[\"ticker\"].map(is_symbol_of_interest)]\n",
    "\n",
    "# OPTIONAL\n",
    "# Drop duplicate symbols within the same timestamp.\n",
    "# When this happens, we should keep the last (most up-to-date) prices.\n",
    "df = df.drop_duplicates(subset=[\"ticker\", \"participant_timestamp\"], keep=\"last\")\n",
    "\n",
    "df"
   ]
  },
  {
   "cell_type": "code",
   "execution_count": null,
   "id": "5ff8ae2d-a81e-4d30-9530-a7b10bf45cc4",
   "metadata": {},
   "outputs": [],
   "source": [
    "df.to_csv(DATA_PATH.replace(\".csv.gz\", \"_filtered.csv\"))"
   ]
  },
  {
   "cell_type": "code",
   "execution_count": null,
   "id": "078cd445-4d9f-4158-af80-3fde86357976",
   "metadata": {},
   "outputs": [],
   "source": [
    "# Construct a directed, weighted graph in which the nodes\n",
    "# are currencies and the edge weights are exchange rates.\n",
    "\n",
    "graph = dict()\n",
    "\n",
    "for index, row in df.iterrows():\n",
    "    currency1, currency2 = row[\"ticker\"][2:].split(\"-\")\n",
    "    ask_price = row[\"ask_price\"]\n",
    "\n",
    "    if currency1 not in graph:\n",
    "        graph[currency1] = dict()\n",
    "    graph[currency1][currency2] = ask_price"
   ]
  },
  {
   "cell_type": "code",
   "execution_count": null,
   "id": "b9341172-2453-4937-aa0b-6c9056734dda",
   "metadata": {},
   "outputs": [],
   "source": [
    "# Visualize the forex graph.\n",
    "\n",
    "G = nx.DiGraph()\n",
    "\n",
    "for currency1, rates in graph.items():\n",
    "    for currency2, rate in rates.items():\n",
    "        G.add_edge(currency1, currency2, weight=rate)\n",
    "\n",
    "pos = nx.nx_pydot.graphviz_layout(G, prog=\"neato\")\n",
    "edge_labels = nx.get_edge_attributes(G, \"weight\")\n",
    "\n",
    "plt.figure(figsize=(5, 5))\n",
    "nx.draw(G, pos, with_labels=True, node_size=1000, node_color=\"#FF7777\", connectionstyle=\"arc3,rad=0.5\")\n",
    "nx.draw_networkx_edge_labels(G, pos, edge_labels=edge_labels, connectionstyle=\"arc3,rad=0.5\")\n",
    "\n",
    "plt.savefig(\"graph.png\", dpi=300)\n",
    "plt.show()"
   ]
  },
  {
   "cell_type": "code",
   "execution_count": null,
   "id": "1a29d5e5-0447-4357-a3bc-1af65492dd8c",
   "metadata": {},
   "outputs": [],
   "source": [
    "# Simple functions to help perform arbitrage.\n",
    "\n",
    "def graph_exchange_to_log(graph: dict[str, dict[str, float]]) -> dict[str, dict[str, float]]:\n",
    "    log_graph = dict()\n",
    "    for currency in graph:\n",
    "        log_graph[currency] = {c: -math.log(w) for c, w in graph[currency].items()}\n",
    "    return log_graph\n",
    "\n",
    "def bellman_ford(graph: dict[str, dict[str, float]]) -> bool:\n",
    "    # Create a new graph in which each weight is the negative logarithm of the exchange rate.\n",
    "    graph = graph_exchange_to_log(graph)\n",
    "\n",
    "    # Add a sentinel source node with a weight 0 edge to each node.\n",
    "    graph[\"\\0\"] = {c: 0 for c in graph}\n",
    "\n",
    "    # Initialize the Bellman-Ford data structures.\n",
    "    distance = {c: float(\"inf\") for c in graph}\n",
    "    distance[\"\\0\"] = 0\n",
    "    predecessor = {c: None for c in graph}\n",
    "\n",
    "    # Relax the edges V - 1 times.\n",
    "    for _ in range(len(graph) - 1):\n",
    "        for c1 in graph:\n",
    "            for c2 in graph[c1]:\n",
    "                weight = graph[c1][c2]\n",
    "                if distance[c1] + weight < distance[c2]:\n",
    "                    distance[c2] = distance[c1] + weight\n",
    "                    predecessor[c2] = c1\n",
    "\n",
    "    # Try to relax edges one more time. If possible, then there is a negative cycle.\n",
    "    skips = 0\n",
    "    for c1 in graph:\n",
    "        for c2 in graph[c1]:\n",
    "            weight = graph[c1][c2]\n",
    "            if distance[c1] + weight < distance[c2]:\n",
    "                if skips > 0:\n",
    "                    skips -= 1\n",
    "                    continue\n",
    "                predecessor[c2] = c1\n",
    "                visited = {c: False for c in graph}\n",
    "                visited[c2] = True\n",
    "                while not visited[c1]:\n",
    "                    visited[c1] = True\n",
    "                    c1 = predecessor[c1]\n",
    "                negative_cycle = [c1]\n",
    "                c2 = predecessor[c1]\n",
    "                while c1 != c2:\n",
    "                    negative_cycle = [c2] + negative_cycle\n",
    "                    c2 = predecessor[c2]\n",
    "                return negative_cycle\n",
    "\n",
    "    return False\n",
    "\n",
    "result = bellman_ford(graph)\n",
    "if result:\n",
    "    print(\" -> \".join(result) + \" -> \" + result[0])"
   ]
  }
 ],
 "metadata": {
  "kernelspec": {
   "display_name": "Python 3 (ipykernel)",
   "language": "python",
   "name": "python3"
  },
  "language_info": {
   "codemirror_mode": {
    "name": "ipython",
    "version": 3
   },
   "file_extension": ".py",
   "mimetype": "text/x-python",
   "name": "python",
   "nbconvert_exporter": "python",
   "pygments_lexer": "ipython3",
   "version": "3.11.9"
  }
 },
 "nbformat": 4,
 "nbformat_minor": 5
}
